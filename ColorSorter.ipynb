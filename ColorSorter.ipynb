{
 "cells": [
  {
   "cell_type": "code",
   "execution_count": 1,
   "metadata": {
    "ExecuteTime": {
     "end_time": "2021-03-25T10:19:00.770704Z",
     "start_time": "2021-03-25T10:19:00.201673Z"
    }
   },
   "outputs": [],
   "source": [
    "import matplotlib.pyplot as plt\n",
    "import numpy as np\n",
    "\n",
    "from matplotlib.axes._axes import _log as matplotlib_axes_logger\n",
    "matplotlib_axes_logger.setLevel('ERROR')"
   ]
  },
  {
   "cell_type": "markdown",
   "metadata": {},
   "source": [
    "###### Color list to sort"
   ]
  },
  {
   "cell_type": "code",
   "execution_count": 2,
   "metadata": {
    "ExecuteTime": {
     "end_time": "2021-03-25T10:19:00.817704Z",
     "start_time": "2021-03-25T10:19:00.772707Z"
    }
   },
   "outputs": [
    {
     "name": "stdout",
     "output_type": "stream",
     "text": [
      "Number of colors: 22\n"
     ]
    }
   ],
   "source": [
    "#rgb color_list\n",
    "col_list = [(12, 154, 220), (75, 104, 156), (247, 187, 11), (3, 3, 3), (209, 216, 109), (232, 109, 116), (9, 144, 59), (191, 198, 226), (236, 125, 6), (249, 211, 10), (187, 63, 53), (149, 202, 179), (140, 171, 155), (85, 138, 168), (238, 177, 148), (212, 212, 9), (22, 139, 161), (132, 178, 68), (240, 176, 176), (31, 74, 147), (255, 255, 255), (93, 188, 210)]\n",
    "\n",
    "#cast rgb color form range [0,255] to [0,1]\n",
    "col_list = [(c[0]/255, c[1]/255, c[2]/255) for c in col_list]\n",
    "\n",
    "print(\"Number of colors:\",len(col_list))"
   ]
  },
  {
   "cell_type": "code",
   "execution_count": 3,
   "metadata": {
    "ExecuteTime": {
     "end_time": "2021-03-25T10:19:00.832709Z",
     "start_time": "2021-03-25T10:19:00.821708Z"
    }
   },
   "outputs": [],
   "source": [
    "#Label associated to the colors (in this case i'm using name of films)\n",
    "\n",
    "film_list = [\"nausica\", \"laputa\", \"totoro\", \"lucciole\", \"kiki\", \"pioggia di ricordi\",\n",
    "             \"porco rosso\", \"si sente il mare\", \"pom poko\", \"sospiri cuore\", \"mononoke\",\n",
    "             \"yamada\", \"città incantata\", \"ricompensa gatto\", \"howl\", \"terramare\", \"ponyo\",\n",
    "             \"arrietty\", \"collina papaveri\", \"si alza il vento\", \"principessa splendente\", \"marnie\"]"
   ]
  },
  {
   "cell_type": "code",
   "execution_count": 4,
   "metadata": {
    "ExecuteTime": {
     "end_time": "2021-03-25T10:19:01.174264Z",
     "start_time": "2021-03-25T10:19:00.835709Z"
    }
   },
   "outputs": [
    {
     "data": {
      "text/plain": [
       "Text(0.5, 1.0, 'Colors NOT sorted')"
      ]
     },
     "execution_count": 4,
     "metadata": {},
     "output_type": "execute_result"
    },
    {
     "data": {
      "image/png": "[encoded data removed]",
      "text/plain": [
       "<Figure size 1152x144 with 1 Axes>"
      ]
     },
     "metadata": {
      "needs_background": "light"
     },
     "output_type": "display_data"
    }
   ],
   "source": [
    "#from colorsys import hls_to_rgb\n",
    "\n",
    "plt.figure(figsize=(16,2))\n",
    "plt.ylim([5,5.4])\n",
    "plt.axis('off')\n",
    "\n",
    "for i in range(len(col_list)):\n",
    "    clr = col_list[i]\n",
    "    \n",
    "    plt.scatter([i], [5.3], c=clr, s=1200, marker=\"s\", label=film_list[i])\n",
    "    plt.scatter([i], [5.2], c=clr, s=1200, marker=\"s\",)\n",
    "    plt.scatter([i], [5.1], c=clr, s=1200, marker=\"s\")\n",
    "    plt.scatter([i], [5.0], c=clr, s=1200, marker=\"s\")\n",
    "    \n",
    "plt.title(\"Colors NOT sorted\")"
   ]
  },
  {
   "cell_type": "markdown",
   "metadata": {},
   "source": [
    "###### Convert RGB colors to LAB"
   ]
  },
  {
   "cell_type": "code",
   "execution_count": 5,
   "metadata": {
    "ExecuteTime": {
     "end_time": "2021-03-25T10:19:01.441677Z",
     "start_time": "2021-03-25T10:19:01.176240Z"
    }
   },
   "outputs": [],
   "source": [
    "from skimage import io, color, data\n",
    "\n",
    "rgb_list = np.array(col_list)\n",
    "rgb_list = np.expand_dims(rgb_list, axis=0)\n",
    "\n",
    "lab_list = color.rgb2lab(rgb_list)[0]"
   ]
  },
  {
   "cell_type": "markdown",
   "metadata": {},
   "source": [
    "###### Sorting"
   ]
  },
  {
   "cell_type": "code",
   "execution_count": 8,
   "metadata": {
    "ExecuteTime": {
     "end_time": "2021-03-25T10:20:54.002877Z",
     "start_time": "2021-03-25T10:20:53.914613Z"
    }
   },
   "outputs": [
    {
     "name": "stdout",
     "output_type": "stream",
     "text": [
      "[16, 13, 0, 21, 12, 11, 17, 4, 15, 9, 2, 8, 14, 18, 5, 10, 3, 19, 1, 7, 20, 6] 22\n"
     ]
    }
   ],
   "source": [
    "from colormath.color_objects import LabColor\n",
    "\n",
    "#Different function to compute the distance between 2 color\n",
    "from colormath.color_diff import delta_e_cie1976\n",
    "from colormath.color_diff import delta_e_cie2000\n",
    "\n",
    "curr_color = 16\n",
    "l = list(range(len(lab_list)))\n",
    "sorted_color=[]\n",
    "\n",
    "while (len(l)!=1):\n",
    "    l.remove(curr_color)\n",
    "    sorted_color.append(curr_color)\n",
    "    \n",
    "    color1 = LabColor(lab_l=lab_list[curr_color][0],\n",
    "                      lab_a=lab_list[curr_color][1],\n",
    "                      lab_b=-lab_list[curr_color][2])\n",
    "    dist = []\n",
    "    for j in l:\n",
    "        color2 = LabColor(lab_l=lab_list[j][0],\n",
    "                          lab_a=lab_list[j][1],\n",
    "                          lab_b=-lab_list[j][2])\n",
    "        \n",
    "        delta_e = delta_e_cie2000(color1, color2)\n",
    "        dist.append(delta_e)\n",
    "        \n",
    "    min_pos = np.argmin(dist)\n",
    "    curr_color = l[min_pos]\n",
    "    \n",
    "sorted_color.append(l[0])\n",
    "print(sorted_color, len(sorted_color))"
   ]
  },
  {
   "cell_type": "code",
   "execution_count": 9,
   "metadata": {
    "ExecuteTime": {
     "end_time": "2021-03-25T10:20:55.519555Z",
     "start_time": "2021-03-25T10:20:55.176515Z"
    }
   },
   "outputs": [
    {
     "data": {
      "text/plain": [
       "Text(0.5, 1.0, 'Color sorted')"
      ]
     },
     "execution_count": 9,
     "metadata": {},
     "output_type": "execute_result"
    },
    {
     "data": {
      "image/png": "[encoded data removed]",
      "text/plain": [
       "<Figure size 1152x144 with 1 Axes>"
      ]
     },
     "metadata": {
      "needs_background": "light"
     },
     "output_type": "display_data"
    }
   ],
   "source": [
    "plt.figure(figsize=(16,2))\n",
    "plt.ylim([5,5.4])\n",
    "plt.axis('off')\n",
    "\n",
    "for i in range(len(col_list)):\n",
    "    clr = col_list[sorted_color[i]]\n",
    "    \n",
    "    plt.scatter([i], [5.3], c=clr, s=1200, marker=\"s\", label=film_list[i])\n",
    "    plt.scatter([i], [5.2], c=clr, s=1200, marker=\"s\",)\n",
    "    plt.scatter([i], [5.1], c=clr, s=1200, marker=\"s\")\n",
    "    plt.scatter([i], [5.0], c=clr, s=1200, marker=\"s\")\n",
    "\n",
    "plt.title(\"Color sorted\")"
   ]
  }
 ],
 "metadata": {
  "kernelspec": {
   "display_name": "Python 3",
   "language": "python",
   "name": "python3"
  },
  "language_info": {
   "codemirror_mode": {
    "name": "ipython",
    "version": 3
   },
   "file_extension": ".py",
   "mimetype": "text/x-python",
   "name": "python",
   "nbconvert_exporter": "python",
   "pygments_lexer": "ipython3",
   "version": "3.8.5"
  },
  "varInspector": {
   "cols": {
    "lenName": 16,
    "lenType": 16,
    "lenVar": 40
   },
   "kernels_config": {
    "python": {
     "delete_cmd_postfix": "",
     "delete_cmd_prefix": "del ",
     "library": "var_list.py",
     "varRefreshCmd": "print(var_dic_list())"
    },
    "r": {
     "delete_cmd_postfix": ") ",
     "delete_cmd_prefix": "rm(",
     "library": "var_list.r",
     "varRefreshCmd": "cat(var_dic_list()) "
    }
   },
   "types_to_exclude": [
    "module",
    "function",
    "builtin_function_or_method",
    "instance",
    "_Feature"
   ],
   "window_display": false
  }
 },
 "nbformat": 4,
 "nbformat_minor": 4
}
