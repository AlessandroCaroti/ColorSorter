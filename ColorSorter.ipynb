{
 "cells": [
  {
   "cell_type": "code",
   "execution_count": 1,
   "metadata": {
    "ExecuteTime": {
     "end_time": "2020-10-30T14:02:56.148351Z",
     "start_time": "2020-10-30T14:02:55.881604Z"
    }
   },
   "outputs": [],
   "source": [
    "import matplotlib.pyplot as plt\n",
    "import numpy as np\n",
    "\n",
    "from matplotlib.axes._axes import _log as matplotlib_axes_logger\n",
    "matplotlib_axes_logger.setLevel('ERROR')"
   ]
  },
  {
   "cell_type": "code",
   "execution_count": 2,
   "metadata": {
    "ExecuteTime": {
     "end_time": "2020-10-30T14:02:56.289733Z",
     "start_time": "2020-10-30T14:02:56.281208Z"
    }
   },
   "outputs": [
    {
     "name": "stdout",
     "output_type": "stream",
     "text": [
      "22\n"
     ]
    }
   ],
   "source": [
    "#list af label associated to the colors\n",
    "film_list = [\"nausica\", \"laputa\", \"totoro\", \"lucciole\", \"kiki\", \"pioggia di ricordi\", \"porco rosso\", \"si sente il mare\", \"pom poko\", \"sospiri cuore\", \"mononoke\", \"yamada\", \"città incantata\", \"ricompensa gatto\", \"howl\", \"terramare\", \"ponyo\", \"arrietty\", \"collina papaveri\", \"si alza il vento\", \"principessa splendente\", \"marnie\"]\n",
    "print(len(film_list))"
   ]
  },
  {
   "cell_type": "code",
   "execution_count": 3,
   "metadata": {
    "ExecuteTime": {
     "end_time": "2020-10-30T14:02:56.897292Z",
     "start_time": "2020-10-30T14:02:56.883775Z"
    }
   },
   "outputs": [
    {
     "name": "stdout",
     "output_type": "stream",
     "text": [
      "22\n"
     ]
    }
   ],
   "source": [
    "#hsl\n",
    "#col_list = [(198, 100, 44), (219, 42, 46), (45, 99, 49), (0, 0, 1), (65, 61, 63), (356, 76, 67), (145, 100, 28), (226, 40, 82), (32, 99, 47), (50, 95, 51), (4, 56, 47), (154, 33, 69), (149, 16, 61), (202, 33, 50), (19, 73, 76), (60, 92, 43), (189, 76, 36), (85, 45, 48), (0, 68, 82), (218, 65, 35), (0, 0, 100), (229, 47, 19)]\n",
    "\n",
    "#rgb\n",
    "col_list = [(12, 154, 220), (75, 104, 156), (247, 187, 11), (3, 3, 3), (209, 216, 109), (232, 109, 116), (9, 144, 59), (191, 198, 226), (236, 125, 6), (249, 211, 10), (187, 63, 53), (149, 202, 179), (140, 171, 155), (85, 138, 168), (238, 177, 148), (212, 212, 9), (22, 139, 161), (132, 178, 68), (240, 176, 176), (31, 74, 147), (255, 255, 255), (93, 188, 210)]\n",
    "col_list = [(c[0]/255, c[1]/255, c[2]/255) for c in col_list]\n",
    "\n",
    "print(len(col_list))"
   ]
  },
  {
   "cell_type": "code",
   "execution_count": 4,
   "metadata": {
    "ExecuteTime": {
     "end_time": "2020-10-30T14:02:57.666457Z",
     "start_time": "2020-10-30T14:02:57.463373Z"
    }
   },
   "outputs": [
    {
     "data": {
      "image/png": "[encoded data removed]",
      "text/plain": [
       "<Figure size 1152x144 with 1 Axes>"
      ]
     },
     "metadata": {
      "needs_background": "light"
     },
     "output_type": "display_data"
    }
   ],
   "source": [
    "#from colorsys import hls_to_rgb\n",
    "\n",
    "plt.figure(figsize=(16,2))\n",
    "plt.axis('off')\n",
    "\n",
    "for i in range(len(col_list)):\n",
    "    clr = col_list[i]\n",
    "    #clr = hls_to_rgb(col_list[i][0]/360, col_list[i][2]/100, col_list[i][1]/100)\n",
    "    \n",
    "    plt.scatter([i], [5.5], c=clr, s=1200, marker=\"s\", label=film_list[i])\n",
    "    plt.scatter([i], [5.0], c=clr, s=1200, marker=\"s\")\n",
    "    plt.scatter([i], [4.5], c=clr, s=1200, marker=\"s\")\n",
    "#plt.legend()"
   ]
  },
  {
   "cell_type": "code",
   "execution_count": 6,
   "metadata": {
    "ExecuteTime": {
     "end_time": "2020-10-30T14:03:07.365851Z",
     "start_time": "2020-10-30T14:03:07.352629Z"
    }
   },
   "outputs": [],
   "source": [
    "from skimage import io, color\n",
    "from skimage import data\n",
    "\n",
    "rgb_list = np.array(col_list)\n",
    "rgb_list = np.expand_dims(rgb_list, axis=0)\n",
    "\n",
    "lab_list = color.rgb2lab(rgb_list)[0]"
   ]
  },
  {
   "cell_type": "code",
   "execution_count": 9,
   "metadata": {
    "ExecuteTime": {
     "end_time": "2020-10-30T14:05:35.702787Z",
     "start_time": "2020-10-30T14:05:35.623618Z"
    }
   },
   "outputs": [
    {
     "name": "stdout",
     "output_type": "stream",
     "text": [
      "[20, 7, 0, 13, 16, 21, 12, 11, 17, 4, 15, 9, 2, 8, 14, 18, 5, 10, 3, 19, 1, 6] 22\n"
     ]
    }
   ],
   "source": [
    "from colormath.color_objects import LabColor\n",
    "from colormath.color_diff import delta_e_cie1976\n",
    "from colormath.color_diff import delta_e_cie2000\n",
    "\n",
    "curr_color = 20\n",
    "l = list(range(len(lab_list)))\n",
    "sorted_color=[]\n",
    "\n",
    "while (len(l)!=1):\n",
    "    l.remove(curr_color)\n",
    "    sorted_color.append(curr_color)\n",
    "    \n",
    "    color1 = LabColor(lab_l=lab_list[curr_color][0],\n",
    "                      lab_a=lab_list[curr_color][1],\n",
    "                      lab_b=-lab_list[curr_color][2])\n",
    "    dist = []\n",
    "    for j in l:\n",
    "        color2 = LabColor(lab_l=lab_list[j][0],\n",
    "                          lab_a=lab_list[j][1],\n",
    "                          lab_b=-lab_list[j][2])\n",
    "        \n",
    "        delta_e = delta_e_cie2000(color1, color2)\n",
    "        dist.append(delta_e)\n",
    "        \n",
    "    min_pos = np.argmin(dist)\n",
    "    curr_color = l[min_pos]\n",
    "    \n",
    "sorted_color.append(l[0])\n",
    "print(sorted_color, len(sorted_color))"
   ]
  },
  {
   "cell_type": "code",
   "execution_count": 10,
   "metadata": {
    "ExecuteTime": {
     "end_time": "2020-10-30T14:05:36.688906Z",
     "start_time": "2020-10-30T14:05:36.510820Z"
    }
   },
   "outputs": [
    {
     "data": {
      "image/png": "[encoded data removed]",
      "text/plain": [
       "<Figure size 1152x144 with 1 Axes>"
      ]
     },
     "metadata": {
      "needs_background": "light"
     },
     "output_type": "display_data"
    }
   ],
   "source": [
    "plt.figure(figsize=(16,2))\n",
    "plt.axis('off')\n",
    "\n",
    "for i in range(len(col_list)):\n",
    "    clr = col_list[sorted_color[i]]\n",
    "    \n",
    "    plt.scatter([i], [5.5], c=clr, s=1200, marker=\"s\", label=film_list[i])\n",
    "    plt.scatter([i], [5.0], c=clr, s=1200, marker=\"s\")\n",
    "    plt.scatter([i], [4.5], c=clr, s=1200, marker=\"s\")"
   ]
  },
  {
   "cell_type": "code",
   "execution_count": null,
   "metadata": {},
   "outputs": [],
   "source": []
  }
 ],
 "metadata": {
  "kernelspec": {
   "display_name": "Python 3",
   "language": "python",
   "name": "python3"
  },
  "language_info": {
   "codemirror_mode": {
    "name": "ipython",
    "version": 3
   },
   "file_extension": ".py",
   "mimetype": "text/x-python",
   "name": "python",
   "nbconvert_exporter": "python",
   "pygments_lexer": "ipython3",
   "version": "3.7.7"
  },
  "varInspector": {
   "cols": {
    "lenName": 16,
    "lenType": 16,
    "lenVar": 40
   },
   "kernels_config": {
    "python": {
     "delete_cmd_postfix": "",
     "delete_cmd_prefix": "del ",
     "library": "var_list.py",
     "varRefreshCmd": "print(var_dic_list())"
    },
    "r": {
     "delete_cmd_postfix": ") ",
     "delete_cmd_prefix": "rm(",
     "library": "var_list.r",
     "varRefreshCmd": "cat(var_dic_list()) "
    }
   },
   "types_to_exclude": [
    "module",
    "function",
    "builtin_function_or_method",
    "instance",
    "_Feature"
   ],
   "window_display": false
  }
 },
 "nbformat": 4,
 "nbformat_minor": 4
}
